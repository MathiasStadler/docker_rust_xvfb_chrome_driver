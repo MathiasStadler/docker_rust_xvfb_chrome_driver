{
 "cells": [
  {
   "cell_type": "markdown",
   "metadata": {},
   "source": [
    "# motivation run rust with chrome and chrome driver inside docker"
   ]
  },
  {
   "cell_type": "markdown",
   "metadata": {},
   "source": [
    "# create new rust project"
   ]
  },
  {
   "cell_type": "code",
   "execution_count": null,
   "metadata": {},
   "outputs": [],
   "source": [
    "mkdir docker_rust_xvfb chrome_driver && cd $_\n",
    "cargo init ."
   ]
  },
  {
   "cell_type": "markdown",
   "metadata": {},
   "source": [
    "# build the project\n",
    "# build the project as release"
   ]
  },
  {
   "cell_type": "code",
   "execution_count": null,
   "metadata": {},
   "outputs": [],
   "source": [
    "cargo build\n",
    "cargo build --release"
   ]
  },
  {
   "cell_type": "markdown",
   "metadata": {},
   "source": [
    "# run binary of shell"
   ]
  },
  {
   "cell_type": "code",
   "execution_count": null,
   "metadata": {},
   "outputs": [],
   "source": [
    "/home/trapapa/debian-slim-xvfb-chrome-stable/docker_rust_hello_world"
   ]
  },
  {
   "cell_type": "markdown",
   "metadata": {},
   "source": [
    "# start docker container with /bin/sh shell"
   ]
  },
  {
   "cell_type": "markdown",
   "metadata": {},
   "source": [
    "# build docker images"
   ]
  },
  {
   "cell_type": "code",
   "execution_count": null,
   "metadata": {},
   "outputs": [],
   "source": [
    "docker build  --progress=plain -t docker_run_rust_local_inside_1 -f Dockerfile_run_local_inside \".\""
   ]
  },
  {
   "cell_type": "markdown",
   "metadata": {},
   "source": [
    "# run docker"
   ]
  },
  {
   "cell_type": "code",
   "execution_count": null,
   "metadata": {},
   "outputs": [],
   "source": [
    "docker run -it docker_run_rust_local_inside_1\n",
    "\n",
    "docker run -it  -v /tmp/.X11-unix:/tmp/.X11-unix -v /var/run/dbus:/var/run/dbus docker_run_rust_local_inside_2"
   ]
  },
  {
   "cell_type": "markdown",
   "metadata": {},
   "source": [
    "# run vncviewer"
   ]
  },
  {
   "cell_type": "code",
   "execution_count": null,
   "metadata": {},
   "outputs": [],
   "source": [
    "export DISPLAY=:0\n",
    "xhost +\n",
    "vncviewer $(docker inspect -f \\\n",
    "'{{range .NetworkSettings.Networks}}{{.IPAddress}}{{end}}' $(docker ps --format \"{{.ID}}\" | cut -d \" \" -f1))"
   ]
  },
  {
   "cell_type": "markdown",
   "metadata": {},
   "source": []
  },
  {
   "cell_type": "code",
   "execution_count": null,
   "metadata": {},
   "outputs": [],
   "source": [
    "#docker exec --user root -it <container id> /bin/ash\n",
    "\n",
    "docker exec --user root -it $(docker ps --format \"{{.ID}}\" | cut -d \" \" -f1) /bin/ash"
   ]
  }
 ],
 "metadata": {
  "kernelspec": {
   "display_name": "Rust",
   "language": "rust",
   "name": "rust"
  },
  "language_info": {
   "name": "rust"
  }
 },
 "nbformat": 4,
 "nbformat_minor": 2
}
